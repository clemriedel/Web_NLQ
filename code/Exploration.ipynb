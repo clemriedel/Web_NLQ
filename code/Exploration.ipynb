{
 "cells": [
  {
   "cell_type": "code",
   "execution_count": 19,
   "metadata": {
    "collapsed": true
   },
   "outputs": [],
   "source": [
    "from __future__ import print_function\n",
    "from nltk.stem.porter import PorterStemmer\n",
    "from nltk.corpus import stopwords\n",
    "from nltk.tokenize import word_tokenize\n",
    "import csv\n",
    "import numpy as np\n",
    "import pandas as pd\n",
    "import textmining\n",
    "import lda\n",
    "import textmining\n",
    "import nltk.corpus"
   ]
  },
  {
   "cell_type": "code",
   "execution_count": 20,
   "metadata": {
    "collapsed": false
   },
   "outputs": [],
   "source": [
    "with open(\"NSF_test.csv\") as f:\n",
    "    Header = f.next().split(',')\n",
    "number_name = Header[0]\n",
    "text_name = Header[1][:-2]"
   ]
  },
  {
   "cell_type": "code",
   "execution_count": 21,
   "metadata": {
    "collapsed": false
   },
   "outputs": [],
   "source": [
    "input_file = csv.DictReader(open(\"NSF_test.csv\"))"
   ]
  },
  {
   "cell_type": "code",
   "execution_count": null,
   "metadata": {
    "collapsed": false
   },
   "outputs": [],
   "source": []
  },
  {
   "cell_type": "code",
   "execution_count": null,
   "metadata": {
    "collapsed": false
   },
   "outputs": [],
   "source": []
  },
  {
   "cell_type": "code",
   "execution_count": 22,
   "metadata": {
    "collapsed": false
   },
   "outputs": [],
   "source": [
    "text = []\n",
    "number = []\n",
    "for row in input_file:\n",
    "    number.append(row[number_name])\n",
    "    text.append(row[text_name])"
   ]
  },
  {
   "cell_type": "code",
   "execution_count": 23,
   "metadata": {
    "collapsed": false
   },
   "outputs": [],
   "source": [
    "text_stop = []\n",
    "stop = set(stopwords.words('english'))\n",
    "\n",
    "for i in range(len(text)):\n",
    "    sentence = text[i].lower()\n",
    "    A = [i for i in sentence.split() if i not in stop]\n",
    "    text_stop.append(' '.join(A))"
   ]
  },
  {
   "cell_type": "code",
   "execution_count": 24,
   "metadata": {
    "collapsed": false
   },
   "outputs": [
    {
     "data": {
      "text/plain": [
       "\"This research will advance our understanding the relationship between infectious disease and social behavior. Batrachochytrium dendrobatidis (Bd) is a deadly fungal pathogen has caused the extinction of many amphibian species. This research will examine how amphibian social behavior spreads this potentially fatal pathogen by studying the communally nesting of slender salamanders (genus Batrachoseps), this salamander is the most common vertebrate in California and recent evidence shows that many populations are infected by the fungal pathogen Bd.<br/><br/>Intellectual Merit. The investigators will test the hypothesis that sociality increases Bd transmission by measuring levels of communal nesting and comparing this with the frequency and degree of infection. The researchers will also test the hypothesis that longer histories of pathogen exposure lead to the evolutionary loss of social behavior by reconstructing each population's history of Bd infection from museum specimens. Understanding this link between amphibian social behavior and infectious disease will have important implications for the conservation of endangered amphibians, and may provide insights into the spread of human disease.<br/><br/>Broader impacts. San Francisco State University is a large, comprehensive public university, where 35% of the enrolled undergraduates are under-represented minorities or from groups under-represented in the sciences. This project will provide these students with a strong foundation as well as the practical tools and critical thinking skills that will ready them for life-long learning and mastering the challenges awaiting them in graduate school and the workforce. These students will work to include behavioral data in the publically-accessible AmphibiaWeb database, (http://amphibiaweb.org/), which receives more than 20,000 queries per day. AmhibiaWeb will be used to disseminate the research findings from this project to both the scientific community and the public, in addition to the publications and presentations that will be jointly authored by the PIs and their students.\""
      ]
     },
     "execution_count": 24,
     "metadata": {},
     "output_type": "execute_result"
    }
   ],
   "source": [
    "text[0]"
   ]
  },
  {
   "cell_type": "code",
   "execution_count": null,
   "metadata": {
    "collapsed": true
   },
   "outputs": [],
   "source": []
  },
  {
   "cell_type": "code",
   "execution_count": null,
   "metadata": {
    "collapsed": true
   },
   "outputs": [],
   "source": []
  },
  {
   "cell_type": "code",
   "execution_count": null,
   "metadata": {
    "collapsed": true
   },
   "outputs": [],
   "source": [
    "for row in input_file:\n",
    "    number.append(row[number_name])\n",
    "    text.append(row[text_name])"
   ]
  }
 ],
 "metadata": {
  "kernelspec": {
   "display_name": "Python 2",
   "language": "python",
   "name": "python2"
  },
  "language_info": {
   "codemirror_mode": {
    "name": "ipython",
    "version": 2
   },
   "file_extension": ".py",
   "mimetype": "text/x-python",
   "name": "python",
   "nbconvert_exporter": "python",
   "pygments_lexer": "ipython2",
   "version": "2.7.11"
  }
 },
 "nbformat": 4,
 "nbformat_minor": 0
}
